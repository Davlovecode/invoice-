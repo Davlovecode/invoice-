{
  "nbformat": 4,
  "nbformat_minor": 0,
  "metadata": {
    "colab": {
      "provenance": []
    },
    "kernelspec": {
      "name": "python3",
      "display_name": "Python 3"
    },
    "language_info": {
      "name": "python"
    }
  },
  "cells": [
    {
      "cell_type": "code",
      "execution_count": 9,
      "metadata": {
        "colab": {
          "base_uri": "https://localhost:8080/"
        },
        "id": "9qGpcayBMTkl",
        "outputId": "cffe3654-204b-43a7-aaf9-fb4c44efdfa6"
      },
      "outputs": [
        {
          "output_type": "stream",
          "name": "stdout",
          "text": [
            "Reading package lists... Done\n",
            "Building dependency tree... Done\n",
            "Reading state information... Done\n",
            "The following additional packages will be installed:\n",
            "  tesseract-ocr-eng tesseract-ocr-osd\n",
            "The following NEW packages will be installed:\n",
            "  tesseract-ocr tesseract-ocr-eng tesseract-ocr-osd\n",
            "0 upgraded, 3 newly installed, 0 to remove and 45 not upgraded.\n",
            "Need to get 4,816 kB of archives.\n",
            "After this operation, 15.6 MB of additional disk space will be used.\n",
            "Get:1 http://archive.ubuntu.com/ubuntu jammy/universe amd64 tesseract-ocr-eng all 1:4.00~git30-7274cfa-1.1 [1,591 kB]\n",
            "Get:2 http://archive.ubuntu.com/ubuntu jammy/universe amd64 tesseract-ocr-osd all 1:4.00~git30-7274cfa-1.1 [2,990 kB]\n",
            "Get:3 http://archive.ubuntu.com/ubuntu jammy/universe amd64 tesseract-ocr amd64 4.1.1-2.1build1 [236 kB]\n",
            "Fetched 4,816 kB in 0s (13.9 MB/s)\n",
            "Selecting previously unselected package tesseract-ocr-eng.\n",
            "(Reading database ... 121925 files and directories currently installed.)\n",
            "Preparing to unpack .../tesseract-ocr-eng_1%3a4.00~git30-7274cfa-1.1_all.deb ...\n",
            "Unpacking tesseract-ocr-eng (1:4.00~git30-7274cfa-1.1) ...\n",
            "Selecting previously unselected package tesseract-ocr-osd.\n",
            "Preparing to unpack .../tesseract-ocr-osd_1%3a4.00~git30-7274cfa-1.1_all.deb ...\n",
            "Unpacking tesseract-ocr-osd (1:4.00~git30-7274cfa-1.1) ...\n",
            "Selecting previously unselected package tesseract-ocr.\n",
            "Preparing to unpack .../tesseract-ocr_4.1.1-2.1build1_amd64.deb ...\n",
            "Unpacking tesseract-ocr (4.1.1-2.1build1) ...\n",
            "Setting up tesseract-ocr-eng (1:4.00~git30-7274cfa-1.1) ...\n",
            "Setting up tesseract-ocr-osd (1:4.00~git30-7274cfa-1.1) ...\n",
            "Setting up tesseract-ocr (4.1.1-2.1build1) ...\n",
            "Processing triggers for man-db (2.10.2-1) ...\n",
            "Requirement already satisfied: pytesseract in /usr/local/lib/python3.10/dist-packages (0.3.10)\n",
            "Requirement already satisfied: packaging>=21.3 in /usr/local/lib/python3.10/dist-packages (from pytesseract) (24.1)\n",
            "Requirement already satisfied: Pillow>=8.0.0 in /usr/local/lib/python3.10/dist-packages (from pytesseract) (9.4.0)\n",
            "{'date': None, 'invoice_number': None, 'total_amount': None, 'vendors': None}\n"
          ]
        }
      ],
      "source": [
        "!apt-get install tesseract-ocr\n",
        "!pip install pytesseract\n",
        "\n",
        "import pytesseract\n",
        "from PIL import Image\n",
        "import re\n",
        "\n",
        "# Function to perform OCR on an invoice image\n",
        "def ocr_invoice(image_path):\n",
        "    # Load the image\n",
        "    image = Image.open(image_path)\n",
        "\n",
        "    # Perform OCR using Tesseract\n",
        "    text = pytesseract.image_to_string(image, lang='eng')\n",
        "\n",
        "    return text\n",
        "\n",
        "# Function to extract key information from the text\n",
        "def extract_information(text):\n",
        "    # Define regex patterns for key information\n",
        "    date_pattern = r'Date:\\s*(\\d{2}/\\d{2}/\\d{4})'\n",
        "    invoice_number_pattern = r'Invoice\\s*Number:\\s*(\\d+)'\n",
        "    total_amount_pattern = r'Grand Totals\\s*\\d+:\\s*([\\d,]+\\.\\d{2})'\n",
        "    vendor_pattern = r'^\\d{3}\\s+([\\w\\s&,]+)\\s+(\\d{2}/\\d{2}/\\d{2})\\s+(\\d{2}/\\d{2}/\\d{2})'\n",
        "\n",
        "    # Extract information using regex\n",
        "    date_match = re.search(date_pattern, text)\n",
        "    invoice_number_match = re.search(invoice_number_pattern, text)\n",
        "    total_amount_match = re.search(total_amount_pattern, text)\n",
        "    vendor_match = re.findall(vendor_pattern, text, re.MULTILINE)\n",
        "\n",
        "    # Return extracted information as a dictionary\n",
        "    return {\n",
        "        'date': date_match.group(1) if date_match else None,\n",
        "        'invoice_number': invoice_number_match.group(1) if invoice_number_match else None,\n",
        "        'total_amount': total_amount_match.group(1).replace(',', '') if total_amount_match else None,\n",
        "        'vendors': vendor_match if vendor_match else None\n",
        "    }\n",
        "\n",
        "# Example usage\n",
        "image_path = '/content/apreports_page-0017.jpg'\n",
        "text = ocr_invoice(image_path)\n",
        "info = extract_information(text)\n",
        "print(info)\n"
      ]
    },
    {
      "cell_type": "code",
      "source": [
        "!pip install pytesseract"
      ],
      "metadata": {
        "colab": {
          "base_uri": "https://localhost:8080/"
        },
        "id": "Lwmf5pMCMdo9",
        "outputId": "c689062c-648d-4caa-fdab-9a6d24cd5f1d"
      },
      "execution_count": 2,
      "outputs": [
        {
          "output_type": "stream",
          "name": "stdout",
          "text": [
            "Collecting pytesseract\n",
            "  Downloading pytesseract-0.3.10-py3-none-any.whl (14 kB)\n",
            "Requirement already satisfied: packaging>=21.3 in /usr/local/lib/python3.10/dist-packages (from pytesseract) (24.1)\n",
            "Requirement already satisfied: Pillow>=8.0.0 in /usr/local/lib/python3.10/dist-packages (from pytesseract) (9.4.0)\n",
            "Installing collected packages: pytesseract\n",
            "Successfully installed pytesseract-0.3.10\n"
          ]
        }
      ]
    }
  ]
}